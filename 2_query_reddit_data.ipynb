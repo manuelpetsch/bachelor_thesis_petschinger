{
 "cells": [
  {
   "cell_type": "markdown",
   "metadata": {},
   "source": [
    "# Query Reddit Data"
   ]
  },
  {
   "cell_type": "markdown",
   "metadata": {},
   "source": [
    "This notebook queries data from Reddit, specifically from the subreddits **r/wallstreetbets**, **r/stocks**, **r/investing**, **r/StockMarket**, and **r/technology**, for the following 21 stocks:\n",
    "\n",
    "1. Apple Inc.\n",
    "2. Alphabet Inc.\n",
    "3. Amazon.com, Inc.\n",
    "4. Advanced Micro Devices, Inc. (AMD)\n",
    "5. Microsoft Corporation\n",
    "6. Tesla, Inc.\n",
    "7. Meta Platforms, Inc.\n",
    "8. Netflix, Inc.\n",
    "9. Adobe Inc.\n",
    "10. NVIDIA Corporation\n",
    "11. PayPal Holdings, Inc.\n",
    "12. Cisco Systems, Inc.\n",
    "13. CrowdStrike Holdings, Inc.\n",
    "14. Uber Technologies, Inc.\n",
    "15. International Business Machines Corporation (IBM)\n",
    "16. Oracle Corporation\n",
    "17. Qualcomm Incorporated\n",
    "18. Intel Corporation\n",
    "19. Salesforce, Inc.\n",
    "20. The Trade Desk, Inc.\n",
    "21. Electronic Arts Inc."
   ]
  },
  {
   "cell_type": "markdown",
   "metadata": {},
   "source": [
    "## 1. Function to read reddit data"
   ]
  },
  {
   "cell_type": "code",
   "execution_count": 15,
   "metadata": {},
   "outputs": [],
   "source": [
    "import praw\n",
    "import datetime\n",
    "import csv\n",
    "\n",
    "# Reddit API credentials\n",
    "client_id = 'PLEASE_INSERT_YOUR_CLIENT_ID'\n",
    "client_secret = 'PLEASE_INSERT_YOUR_CLIENT_SECRET'\n",
    "user_agent = 'Scraper 1.0 by /u/manuelpetsch'\n",
    "\n",
    "# Initialize PRAW with credentials\n",
    "reddit = praw.Reddit(client_id=client_id, client_secret=client_secret, user_agent=user_agent)\n",
    "\n",
    "def read_reddit_data(subreddit_name, stock_name, file_name):\n",
    "    # Define the subreddit\n",
    "    subreddit = reddit.subreddit(subreddit_name)\n",
    "\n",
    "    # Open a CSV file to store the data, ensuring proper handling of special characters\n",
    "    with open('data/' + file_name + '.csv', mode='w', newline='', encoding='utf-8') as file:\n",
    "        writer = csv.writer(file, delimiter=';', quoting=csv.QUOTE_ALL, quotechar='\"', escapechar='\\\\', doublequote=True)\n",
    "        # Write CSV headers\n",
    "        writer.writerow(['Post Title', 'Post URL', 'Content', 'Post Score', 'Post Date'])\n",
    "\n",
    "        # Search for text posts containing the same of the stock in top posts for the last year\n",
    "        for submission in subreddit.search(stock_name, sort='relevance', time_filter='year', limit=None):\n",
    "            if submission.is_self:  # Check for text posts\n",
    "                content = submission.selftext.replace('\\n', ' ').replace('\\r', '').replace(';', ':')\n",
    "                # Write post details to CSV\n",
    "                writer.writerow([\n",
    "                    submission.title.replace(';', ':'),  # Replace semicolons to prevent delimiter issues\n",
    "                    submission.url,\n",
    "                    content,\n",
    "                    submission.score,\n",
    "                    datetime.datetime.fromtimestamp(submission.created_utc).isoformat()  # Format date-time for consistency\n",
    "                ])\n",
    "\n",
    "    print(\"The data has been written to '\" + file_name + \".csv'\")"
   ]
  },
  {
   "cell_type": "markdown",
   "metadata": {},
   "source": [
    "## 2. Apple"
   ]
  },
  {
   "cell_type": "markdown",
   "metadata": {},
   "source": [
    "### r/wallstreetbets - last year - sorted by relevance"
   ]
  },
  {
   "cell_type": "code",
   "execution_count": 57,
   "metadata": {},
   "outputs": [
    {
     "name": "stdout",
     "output_type": "stream",
     "text": [
      "Data has been written to 'reddit_wallstreetbets_apple_posts2.csv'\n"
     ]
    }
   ],
   "source": [
    "read_reddit_data(subreddit_name='wallstreetbets', stock_name='Apple', file_name='reddit_aapl/reddit_wallstreetbets_aapl_posts')"
   ]
  },
  {
   "cell_type": "markdown",
   "metadata": {},
   "source": [
    "### r/stocks - last year - sorted by relevance"
   ]
  },
  {
   "cell_type": "code",
   "execution_count": 58,
   "metadata": {},
   "outputs": [
    {
     "name": "stdout",
     "output_type": "stream",
     "text": [
      "Data has been written to 'reddit_stocks_apple_posts.csv'\n"
     ]
    }
   ],
   "source": [
    "read_reddit_data(subreddit_name='stocks', stock_name='Apple', file_name='reddit_aapl/reddit_stocks_aapl_posts')"
   ]
  },
  {
   "cell_type": "markdown",
   "metadata": {},
   "source": [
    "### r/investing - last year - sorted by relevance"
   ]
  },
  {
   "cell_type": "code",
   "execution_count": 59,
   "metadata": {},
   "outputs": [
    {
     "name": "stdout",
     "output_type": "stream",
     "text": [
      "Data has been written to 'reddit_investing_apple_posts.csv'\n"
     ]
    }
   ],
   "source": [
    "read_reddit_data(subreddit_name='investing', stock_name='Apple', file_name='reddit_aapl/reddit_investing_aapl_posts')"
   ]
  },
  {
   "cell_type": "markdown",
   "metadata": {},
   "source": [
    "### r/StockMarket - last year - sorted by relevance"
   ]
  },
  {
   "cell_type": "code",
   "execution_count": 60,
   "metadata": {},
   "outputs": [
    {
     "name": "stdout",
     "output_type": "stream",
     "text": [
      "Data has been written to 'reddit_StockMarket_apple_posts.csv'\n"
     ]
    }
   ],
   "source": [
    "read_reddit_data(subreddit_name='StockMarket', stock_name='Apple', file_name='reddit_aapl/reddit_StockMarket_aapl_posts')"
   ]
  },
  {
   "cell_type": "markdown",
   "metadata": {},
   "source": [
    "### r/technology - last year - sorted by relevance"
   ]
  },
  {
   "cell_type": "code",
   "execution_count": 61,
   "metadata": {},
   "outputs": [
    {
     "name": "stdout",
     "output_type": "stream",
     "text": [
      "Data has been written to 'reddit_technology_apple_posts.csv'\n"
     ]
    }
   ],
   "source": [
    "read_reddit_data(subreddit_name='technology', stock_name='Apple', file_name='reddit_aapl/reddit_technology_aapl_posts')"
   ]
  },
  {
   "cell_type": "markdown",
   "metadata": {},
   "source": [
    "## 3. Alphabet"
   ]
  },
  {
   "cell_type": "markdown",
   "metadata": {},
   "source": [
    "### r/wallstreetbets - last year - sorted by relevance"
   ]
  },
  {
   "cell_type": "code",
   "execution_count": 69,
   "metadata": {},
   "outputs": [
    {
     "name": "stdout",
     "output_type": "stream",
     "text": [
      "Data has been written to 'reddit_wallstreetbets_goog_posts.csv'\n"
     ]
    }
   ],
   "source": [
    "read_reddit_data(subreddit_name='wallstreetbets', stock_name='Google', file_name='reddit_goog/reddit_wallstreetbets_goog_posts')"
   ]
  },
  {
   "cell_type": "markdown",
   "metadata": {},
   "source": [
    "### r/stocks - last year - sorted by relevance"
   ]
  },
  {
   "cell_type": "code",
   "execution_count": 70,
   "metadata": {},
   "outputs": [
    {
     "name": "stdout",
     "output_type": "stream",
     "text": [
      "16-May-24 18:05:40 - Retrying due to ReadTimeout(ReadTimeoutError(\"HTTPSConnectionPool(host='oauth.reddit.com', port=443): Read timed out. (read timeout=16.0)\")) status: GET https://oauth.reddit.com/r/stocks/search/\n",
      "Data has been written to 'reddit_stocks_goog_posts.csv'\n"
     ]
    }
   ],
   "source": [
    "read_reddit_data(subreddit_name='stocks', stock_name='Google', file_name='reddit_goog/reddit_stocks_goog_posts')"
   ]
  },
  {
   "cell_type": "markdown",
   "metadata": {},
   "source": [
    "### r/investing - last year - sorted by relevance"
   ]
  },
  {
   "cell_type": "code",
   "execution_count": 71,
   "metadata": {},
   "outputs": [
    {
     "name": "stdout",
     "output_type": "stream",
     "text": [
      "Data has been written to 'reddit_investing_goog_posts.csv'\n"
     ]
    }
   ],
   "source": [
    "read_reddit_data(subreddit_name='investing', stock_name='Google', file_name='reddit_goog/reddit_investing_goog_posts')"
   ]
  },
  {
   "cell_type": "markdown",
   "metadata": {},
   "source": [
    "### r/StockMarket - last year - sorted by relevance"
   ]
  },
  {
   "cell_type": "code",
   "execution_count": 72,
   "metadata": {},
   "outputs": [
    {
     "name": "stdout",
     "output_type": "stream",
     "text": [
      "Data has been written to 'reddit_StockMarket_goog_posts.csv'\n"
     ]
    }
   ],
   "source": [
    "read_reddit_data(subreddit_name='StockMarket', stock_name='Google', file_name='reddit_goog/reddit_StockMarket_goog_posts')"
   ]
  },
  {
   "cell_type": "markdown",
   "metadata": {},
   "source": [
    "### r/technology - last year - sorted by relevance"
   ]
  },
  {
   "cell_type": "code",
   "execution_count": 73,
   "metadata": {},
   "outputs": [
    {
     "name": "stdout",
     "output_type": "stream",
     "text": [
      "Data has been written to 'reddit_technology_goog_posts.csv'\n"
     ]
    }
   ],
   "source": [
    "read_reddit_data(subreddit_name='technology', stock_name='Google', file_name='reddit_goog/reddit_technology_goog_posts')"
   ]
  },
  {
   "cell_type": "markdown",
   "metadata": {},
   "source": [
    "## 4. Amazon"
   ]
  },
  {
   "cell_type": "markdown",
   "metadata": {},
   "source": [
    "### r/wallstreetbets - last year - sorted by relevance"
   ]
  },
  {
   "cell_type": "code",
   "execution_count": 74,
   "metadata": {},
   "outputs": [
    {
     "name": "stdout",
     "output_type": "stream",
     "text": [
      "Data has been written to 'reddit_amzn/reddit_wallstreetbets_amzn_posts.csv'\n"
     ]
    }
   ],
   "source": [
    "read_reddit_data(subreddit_name='wallstreetbets', stock_name='Amazon', file_name='reddit_amzn/reddit_wallstreetbets_amzn_posts')"
   ]
  },
  {
   "cell_type": "markdown",
   "metadata": {},
   "source": [
    "### r/stocks - last year - sorted by relevance"
   ]
  },
  {
   "cell_type": "code",
   "execution_count": 75,
   "metadata": {},
   "outputs": [
    {
     "name": "stdout",
     "output_type": "stream",
     "text": [
      "Data has been written to 'reddit_amzn/reddit_stocks_amzn_posts.csv'\n"
     ]
    }
   ],
   "source": [
    "read_reddit_data(subreddit_name='stocks', stock_name='Amazon', file_name='reddit_amzn/reddit_stocks_amzn_posts')"
   ]
  },
  {
   "cell_type": "markdown",
   "metadata": {},
   "source": [
    "### r/investing - last year - sorted by relevance"
   ]
  },
  {
   "cell_type": "code",
   "execution_count": 76,
   "metadata": {},
   "outputs": [
    {
     "name": "stdout",
     "output_type": "stream",
     "text": [
      "Data has been written to 'reddit_amzn/reddit_investing_amzn_posts.csv'\n"
     ]
    }
   ],
   "source": [
    "read_reddit_data(subreddit_name='investing', stock_name='Amazon', file_name='reddit_amzn/reddit_investing_amzn_posts')"
   ]
  },
  {
   "cell_type": "markdown",
   "metadata": {},
   "source": [
    "### r/StockMarket - last year - sorted by relevance"
   ]
  },
  {
   "cell_type": "code",
   "execution_count": 77,
   "metadata": {},
   "outputs": [
    {
     "name": "stdout",
     "output_type": "stream",
     "text": [
      "Data has been written to 'reddit_amzn/reddit_StockMarket_amzn_posts.csv'\n"
     ]
    }
   ],
   "source": [
    "read_reddit_data(subreddit_name='StockMarket', stock_name='Amazon', file_name='reddit_amzn/reddit_StockMarket_amzn_posts')"
   ]
  },
  {
   "cell_type": "markdown",
   "metadata": {},
   "source": [
    "### r/technology - last year - sorted by relevance"
   ]
  },
  {
   "cell_type": "code",
   "execution_count": 78,
   "metadata": {},
   "outputs": [
    {
     "name": "stdout",
     "output_type": "stream",
     "text": [
      "Data has been written to 'reddit_amzn/reddit_technology_amzn_posts.csv'\n"
     ]
    }
   ],
   "source": [
    "read_reddit_data(subreddit_name='technology', stock_name='Amazon', file_name='reddit_amzn/reddit_technology_amzn_posts')"
   ]
  },
  {
   "cell_type": "markdown",
   "metadata": {},
   "source": [
    "## 5. AMD"
   ]
  },
  {
   "cell_type": "markdown",
   "metadata": {},
   "source": [
    "### r/wallstreetbets - last year - sorted by relevance"
   ]
  },
  {
   "cell_type": "code",
   "execution_count": 80,
   "metadata": {},
   "outputs": [
    {
     "name": "stdout",
     "output_type": "stream",
     "text": [
      "Data has been written to 'reddit_amd/reddit_wallstreetbets_amd_posts.csv'\n"
     ]
    }
   ],
   "source": [
    "read_reddit_data(subreddit_name='wallstreetbets', stock_name='AMD', file_name='reddit_amd/reddit_wallstreetbets_amd_posts')"
   ]
  },
  {
   "cell_type": "markdown",
   "metadata": {},
   "source": [
    "### r/stocks - last year - sorted by relevance"
   ]
  },
  {
   "cell_type": "code",
   "execution_count": 81,
   "metadata": {},
   "outputs": [
    {
     "name": "stdout",
     "output_type": "stream",
     "text": [
      "Data has been written to 'reddit_amd/reddit_stocks_amd_posts.csv'\n"
     ]
    }
   ],
   "source": [
    "read_reddit_data(subreddit_name='stocks', stock_name='AMD', file_name='reddit_amd/reddit_stocks_amd_posts')"
   ]
  },
  {
   "cell_type": "markdown",
   "metadata": {},
   "source": [
    "### r/investing - last year - sorted by relevance"
   ]
  },
  {
   "cell_type": "code",
   "execution_count": 82,
   "metadata": {},
   "outputs": [
    {
     "name": "stdout",
     "output_type": "stream",
     "text": [
      "Data has been written to 'reddit_amd/reddit_investing_amd_posts.csv'\n"
     ]
    }
   ],
   "source": [
    "read_reddit_data(subreddit_name='investing', stock_name='AMD', file_name='reddit_amd/reddit_investing_amd_posts')"
   ]
  },
  {
   "cell_type": "markdown",
   "metadata": {},
   "source": [
    "### r/StockMarket - last year - sorted by relevance"
   ]
  },
  {
   "cell_type": "code",
   "execution_count": 83,
   "metadata": {},
   "outputs": [
    {
     "name": "stdout",
     "output_type": "stream",
     "text": [
      "Data has been written to 'reddit_amd/reddit_StockMarket_amd_posts.csv'\n"
     ]
    }
   ],
   "source": [
    "read_reddit_data(subreddit_name='StockMarket', stock_name='AMD', file_name='reddit_amd/reddit_StockMarket_amd_posts')"
   ]
  },
  {
   "cell_type": "markdown",
   "metadata": {},
   "source": [
    "### r/technology - last year - sorted by relevance"
   ]
  },
  {
   "cell_type": "code",
   "execution_count": 84,
   "metadata": {},
   "outputs": [
    {
     "name": "stdout",
     "output_type": "stream",
     "text": [
      "Data has been written to 'reddit_amd/reddit_technology_amd_posts.csv'\n"
     ]
    }
   ],
   "source": [
    "read_reddit_data(subreddit_name='technology', stock_name='AMD', file_name='reddit_amd/reddit_technology_amd_posts')"
   ]
  },
  {
   "cell_type": "markdown",
   "metadata": {},
   "source": [
    "## 6. Microsoft"
   ]
  },
  {
   "cell_type": "markdown",
   "metadata": {},
   "source": [
    "### r/wallstreetbets - last year - sorted by relevance"
   ]
  },
  {
   "cell_type": "code",
   "execution_count": 85,
   "metadata": {},
   "outputs": [
    {
     "name": "stdout",
     "output_type": "stream",
     "text": [
      "Data has been written to 'reddit_msft/reddit_wallstreetbets_msft_posts.csv'\n"
     ]
    }
   ],
   "source": [
    "read_reddit_data(subreddit_name='wallstreetbets', stock_name='Microsoft', file_name='reddit_msft/reddit_wallstreetbets_msft_posts')"
   ]
  },
  {
   "cell_type": "markdown",
   "metadata": {},
   "source": [
    "### r/stocks - last year - sorted by relevance"
   ]
  },
  {
   "cell_type": "code",
   "execution_count": 86,
   "metadata": {},
   "outputs": [
    {
     "name": "stdout",
     "output_type": "stream",
     "text": [
      "18-May-24 11:55:28 - Retrying due to ReadTimeout(ReadTimeoutError(\"HTTPSConnectionPool(host='oauth.reddit.com', port=443): Read timed out. (read timeout=16.0)\")) status: GET https://oauth.reddit.com/r/stocks/search/\n",
      "Data has been written to 'reddit_msft/reddit_stocks_msft_posts.csv'\n"
     ]
    }
   ],
   "source": [
    "read_reddit_data(subreddit_name='stocks', stock_name='Microsoft', file_name='reddit_msft/reddit_stocks_msft_posts')"
   ]
  },
  {
   "cell_type": "markdown",
   "metadata": {},
   "source": [
    "### r/investing - last year - sorted by relevance"
   ]
  },
  {
   "cell_type": "code",
   "execution_count": 87,
   "metadata": {},
   "outputs": [
    {
     "name": "stdout",
     "output_type": "stream",
     "text": [
      "Data has been written to 'reddit_msft/reddit_investing_msft_posts.csv'\n"
     ]
    }
   ],
   "source": [
    "read_reddit_data(subreddit_name='investing', stock_name='Microsoft', file_name='reddit_msft/reddit_investing_msft_posts')"
   ]
  },
  {
   "cell_type": "markdown",
   "metadata": {},
   "source": [
    "### r/StockMarket - last year - sorted by relevance"
   ]
  },
  {
   "cell_type": "code",
   "execution_count": 88,
   "metadata": {},
   "outputs": [
    {
     "name": "stdout",
     "output_type": "stream",
     "text": [
      "Data has been written to 'reddit_msft/reddit_StockMarket_msft_posts.csv'\n"
     ]
    }
   ],
   "source": [
    "read_reddit_data(subreddit_name='StockMarket', stock_name='Microsoft', file_name='reddit_msft/reddit_StockMarket_msft_posts')"
   ]
  },
  {
   "cell_type": "markdown",
   "metadata": {},
   "source": [
    "### r/technology - last year - sorted by relevance"
   ]
  },
  {
   "cell_type": "code",
   "execution_count": 89,
   "metadata": {},
   "outputs": [
    {
     "name": "stdout",
     "output_type": "stream",
     "text": [
      "Data has been written to 'reddit_msft/reddit_technology_msft_posts.csv'\n"
     ]
    }
   ],
   "source": [
    "read_reddit_data(subreddit_name='technology', stock_name='Microsoft', file_name='reddit_msft/reddit_technology_msft_posts')"
   ]
  },
  {
   "cell_type": "markdown",
   "metadata": {},
   "source": [
    "## 7. Tesla"
   ]
  },
  {
   "cell_type": "markdown",
   "metadata": {},
   "source": [
    "### r/wallstreetbets - last year - sorted by relevance"
   ]
  },
  {
   "cell_type": "code",
   "execution_count": 91,
   "metadata": {},
   "outputs": [
    {
     "name": "stdout",
     "output_type": "stream",
     "text": [
      "Data has been written to 'reddit_tsla/reddit_wallstreetbets_tsla_posts.csv'\n"
     ]
    }
   ],
   "source": [
    "read_reddit_data(subreddit_name='wallstreetbets', stock_name='Tesla', file_name='reddit_tsla/reddit_wallstreetbets_tsla_posts')"
   ]
  },
  {
   "cell_type": "markdown",
   "metadata": {},
   "source": [
    "### r/stocks - last year - sorted by relevance"
   ]
  },
  {
   "cell_type": "code",
   "execution_count": 92,
   "metadata": {},
   "outputs": [
    {
     "name": "stdout",
     "output_type": "stream",
     "text": [
      "Data has been written to 'reddit_tsla/reddit_stocks_tsla_posts.csv'\n"
     ]
    }
   ],
   "source": [
    "read_reddit_data(subreddit_name='stocks', stock_name='Tesla', file_name='reddit_tsla/reddit_stocks_tsla_posts')"
   ]
  },
  {
   "cell_type": "markdown",
   "metadata": {},
   "source": [
    "### r/investing - last year - sorted by relevance"
   ]
  },
  {
   "cell_type": "code",
   "execution_count": 2,
   "metadata": {},
   "outputs": [
    {
     "name": "stdout",
     "output_type": "stream",
     "text": [
      "Data has been written to 'reddit_tsla/reddit_investing_tsla_posts.csv'\n"
     ]
    }
   ],
   "source": [
    "read_reddit_data(subreddit_name='investing', stock_name='Tesla', file_name='reddit_tsla/reddit_investing_tsla_posts')"
   ]
  },
  {
   "cell_type": "markdown",
   "metadata": {},
   "source": [
    "### r/StockMarket - last year - sorted by relevance"
   ]
  },
  {
   "cell_type": "code",
   "execution_count": 3,
   "metadata": {},
   "outputs": [
    {
     "name": "stdout",
     "output_type": "stream",
     "text": [
      "Data has been written to 'reddit_tsla/reddit_StockMarket_tsla_posts.csv'\n"
     ]
    }
   ],
   "source": [
    "read_reddit_data(subreddit_name='StockMarket', stock_name='Tesla', file_name='reddit_tsla/reddit_StockMarket_tsla_posts')"
   ]
  },
  {
   "cell_type": "markdown",
   "metadata": {},
   "source": [
    "### r/technology - last year - sorted by relevance"
   ]
  },
  {
   "cell_type": "code",
   "execution_count": 4,
   "metadata": {},
   "outputs": [
    {
     "name": "stdout",
     "output_type": "stream",
     "text": [
      "Data has been written to 'reddit_tsla/reddit_technology_tsla_posts.csv'\n"
     ]
    }
   ],
   "source": [
    "read_reddit_data(subreddit_name='technology', stock_name='Tesla', file_name='reddit_tsla/reddit_technology_tsla_posts')"
   ]
  },
  {
   "cell_type": "markdown",
   "metadata": {},
   "source": [
    "## 8. Meta"
   ]
  },
  {
   "cell_type": "markdown",
   "metadata": {},
   "source": [
    "### r/wallstreetbets - last year - sorted by relevance"
   ]
  },
  {
   "cell_type": "code",
   "execution_count": 5,
   "metadata": {},
   "outputs": [
    {
     "name": "stdout",
     "output_type": "stream",
     "text": [
      "Data has been written to 'reddit_meta/reddit_wallstreetbets_meta_posts.csv'\n"
     ]
    }
   ],
   "source": [
    "read_reddit_data(subreddit_name='wallstreetbets', stock_name='Meta', file_name='reddit_meta/reddit_wallstreetbets_meta_posts')"
   ]
  },
  {
   "cell_type": "markdown",
   "metadata": {},
   "source": [
    "### r/stocks - last year - sorted by relevance"
   ]
  },
  {
   "cell_type": "code",
   "execution_count": 6,
   "metadata": {},
   "outputs": [
    {
     "name": "stdout",
     "output_type": "stream",
     "text": [
      "Data has been written to 'reddit_meta/reddit_stocks_meta_posts.csv'\n"
     ]
    }
   ],
   "source": [
    "read_reddit_data(subreddit_name='stocks', stock_name='Meta', file_name='reddit_meta/reddit_stocks_meta_posts')"
   ]
  },
  {
   "cell_type": "markdown",
   "metadata": {},
   "source": [
    "### r/investing - last year - sorted by relevance"
   ]
  },
  {
   "cell_type": "code",
   "execution_count": 7,
   "metadata": {},
   "outputs": [
    {
     "name": "stdout",
     "output_type": "stream",
     "text": [
      "Data has been written to 'reddit_meta/reddit_investing_meta_posts.csv'\n"
     ]
    }
   ],
   "source": [
    "read_reddit_data(subreddit_name='investing', stock_name='Meta', file_name='reddit_meta/reddit_investing_meta_posts')"
   ]
  },
  {
   "cell_type": "markdown",
   "metadata": {},
   "source": [
    "### r/StockMarket - last year - sorted by relevance"
   ]
  },
  {
   "cell_type": "code",
   "execution_count": 8,
   "metadata": {},
   "outputs": [
    {
     "name": "stdout",
     "output_type": "stream",
     "text": [
      "Data has been written to 'reddit_meta/reddit_StockMarket_meta_posts.csv'\n"
     ]
    }
   ],
   "source": [
    "read_reddit_data(subreddit_name='StockMarket', stock_name='Meta', file_name='reddit_meta/reddit_StockMarket_meta_posts')"
   ]
  },
  {
   "cell_type": "markdown",
   "metadata": {},
   "source": [
    "### r/technology - last year - sorted by relevance"
   ]
  },
  {
   "cell_type": "code",
   "execution_count": 9,
   "metadata": {},
   "outputs": [
    {
     "name": "stdout",
     "output_type": "stream",
     "text": [
      "Data has been written to 'reddit_meta/reddit_technology_meta_posts.csv'\n"
     ]
    }
   ],
   "source": [
    "read_reddit_data(subreddit_name='technology', stock_name='Meta', file_name='reddit_meta/reddit_technology_meta_posts')"
   ]
  },
  {
   "cell_type": "markdown",
   "metadata": {},
   "source": [
    "## 9. Netflix"
   ]
  },
  {
   "cell_type": "markdown",
   "metadata": {},
   "source": [
    "### r/wallstreetbets - last year - sorted by relevance"
   ]
  },
  {
   "cell_type": "code",
   "execution_count": 10,
   "metadata": {},
   "outputs": [
    {
     "name": "stdout",
     "output_type": "stream",
     "text": [
      "Data has been written to 'reddit_nflx/reddit_wallstreetbets_nflx_posts.csv'\n"
     ]
    }
   ],
   "source": [
    "read_reddit_data(subreddit_name='wallstreetbets', stock_name='Netflix', file_name='reddit_nflx/reddit_wallstreetbets_nflx_posts')"
   ]
  },
  {
   "cell_type": "markdown",
   "metadata": {},
   "source": [
    "### r/stocks - last year - sorted by relevance"
   ]
  },
  {
   "cell_type": "code",
   "execution_count": 11,
   "metadata": {},
   "outputs": [
    {
     "name": "stdout",
     "output_type": "stream",
     "text": [
      "Data has been written to 'reddit_nflx/reddit_stocks_nflx_posts.csv'\n"
     ]
    }
   ],
   "source": [
    "read_reddit_data(subreddit_name='stocks', stock_name='Netflix', file_name='reddit_nflx/reddit_stocks_nflx_posts')"
   ]
  },
  {
   "cell_type": "markdown",
   "metadata": {},
   "source": [
    "### r/investing - last year - sorted by relevance"
   ]
  },
  {
   "cell_type": "code",
   "execution_count": 12,
   "metadata": {},
   "outputs": [
    {
     "name": "stdout",
     "output_type": "stream",
     "text": [
      "Data has been written to 'reddit_nflx/reddit_investing_nflx_posts.csv'\n"
     ]
    }
   ],
   "source": [
    "read_reddit_data(subreddit_name='investing', stock_name='Netflix', file_name='reddit_nflx/reddit_investing_nflx_posts')"
   ]
  },
  {
   "cell_type": "markdown",
   "metadata": {},
   "source": [
    "### r/StockMarket - last year - sorted by relevance"
   ]
  },
  {
   "cell_type": "code",
   "execution_count": 13,
   "metadata": {},
   "outputs": [
    {
     "name": "stdout",
     "output_type": "stream",
     "text": [
      "Data has been written to 'reddit_nflx/reddit_StockMarket_nflx_posts.csv'\n"
     ]
    }
   ],
   "source": [
    "read_reddit_data(subreddit_name='StockMarket', stock_name='Netflix', file_name='reddit_nflx/reddit_StockMarket_nflx_posts')"
   ]
  },
  {
   "cell_type": "markdown",
   "metadata": {},
   "source": [
    "### r/technology - last year - sorted by relevance"
   ]
  },
  {
   "cell_type": "code",
   "execution_count": 14,
   "metadata": {},
   "outputs": [
    {
     "name": "stdout",
     "output_type": "stream",
     "text": [
      "Data has been written to 'reddit_nflx/reddit_technology_nflx_posts.csv'\n"
     ]
    }
   ],
   "source": [
    "read_reddit_data(subreddit_name='technology', stock_name='Netflix', file_name='reddit_nflx/reddit_technology_nflx_posts')"
   ]
  },
  {
   "cell_type": "markdown",
   "metadata": {},
   "source": [
    "## 10. Adobe"
   ]
  },
  {
   "cell_type": "markdown",
   "metadata": {},
   "source": [
    "### r/wallstreetbets - last year - sorted by relevance"
   ]
  },
  {
   "cell_type": "code",
   "execution_count": 15,
   "metadata": {},
   "outputs": [
    {
     "name": "stdout",
     "output_type": "stream",
     "text": [
      "Data has been written to 'reddit_adbe/reddit_wallstreetbets_adbe_posts.csv'\n"
     ]
    }
   ],
   "source": [
    "read_reddit_data(subreddit_name='wallstreetbets', stock_name='Adobe', file_name='reddit_adbe/reddit_wallstreetbets_adbe_posts')"
   ]
  },
  {
   "cell_type": "markdown",
   "metadata": {},
   "source": [
    "### r/stocks - last year - sorted by relevance"
   ]
  },
  {
   "cell_type": "code",
   "execution_count": 16,
   "metadata": {},
   "outputs": [
    {
     "name": "stdout",
     "output_type": "stream",
     "text": [
      "Data has been written to 'reddit_adbe/reddit_stocks_adbe_posts.csv'\n"
     ]
    }
   ],
   "source": [
    "read_reddit_data(subreddit_name='stocks', stock_name='Adobe', file_name='reddit_adbe/reddit_stocks_adbe_posts')"
   ]
  },
  {
   "cell_type": "markdown",
   "metadata": {},
   "source": [
    "### r/investing - last year - sorted by relevance"
   ]
  },
  {
   "cell_type": "code",
   "execution_count": 17,
   "metadata": {},
   "outputs": [
    {
     "name": "stdout",
     "output_type": "stream",
     "text": [
      "Data has been written to 'reddit_adbe/reddit_investing_adbe_posts.csv'\n"
     ]
    }
   ],
   "source": [
    "read_reddit_data(subreddit_name='investing', stock_name='Adobe', file_name='reddit_adbe/reddit_investing_adbe_posts')"
   ]
  },
  {
   "cell_type": "markdown",
   "metadata": {},
   "source": [
    "### r/StockMarket - last year - sorted by relevance"
   ]
  },
  {
   "cell_type": "code",
   "execution_count": 18,
   "metadata": {},
   "outputs": [
    {
     "name": "stdout",
     "output_type": "stream",
     "text": [
      "Data has been written to 'reddit_adbe/reddit_StockMarket_adbe_posts.csv'\n"
     ]
    }
   ],
   "source": [
    "read_reddit_data(subreddit_name='StockMarket', stock_name='Adobe', file_name='reddit_adbe/reddit_StockMarket_adbe_posts')"
   ]
  },
  {
   "cell_type": "markdown",
   "metadata": {},
   "source": [
    "### r/technology - last year - sorted by relevance"
   ]
  },
  {
   "cell_type": "code",
   "execution_count": 19,
   "metadata": {},
   "outputs": [
    {
     "name": "stdout",
     "output_type": "stream",
     "text": [
      "Data has been written to 'reddit_adbe/reddit_technology_adbe_posts.csv'\n"
     ]
    }
   ],
   "source": [
    "read_reddit_data(subreddit_name='technology', stock_name='Adobe', file_name='reddit_adbe/reddit_technology_adbe_posts')"
   ]
  },
  {
   "cell_type": "markdown",
   "metadata": {},
   "source": [
    "## 11. Nvidia"
   ]
  },
  {
   "cell_type": "markdown",
   "metadata": {},
   "source": [
    "### r/wallstreetbets - last year - sorted by relevance"
   ]
  },
  {
   "cell_type": "code",
   "execution_count": 20,
   "metadata": {},
   "outputs": [
    {
     "name": "stdout",
     "output_type": "stream",
     "text": [
      "Data has been written to 'reddit_nvda/reddit_wallstreetbets_nvda_posts.csv'\n"
     ]
    }
   ],
   "source": [
    "read_reddit_data(subreddit_name='wallstreetbets', stock_name='Nvidia', file_name='reddit_nvda/reddit_wallstreetbets_nvda_posts')"
   ]
  },
  {
   "cell_type": "markdown",
   "metadata": {},
   "source": [
    "### r/stocks - last year - sorted by relevance"
   ]
  },
  {
   "cell_type": "code",
   "execution_count": 21,
   "metadata": {},
   "outputs": [
    {
     "name": "stdout",
     "output_type": "stream",
     "text": [
      "Data has been written to 'reddit_nvda/reddit_stocks_nvda_posts.csv'\n"
     ]
    }
   ],
   "source": [
    "read_reddit_data(subreddit_name='stocks', stock_name='Nvidia', file_name='reddit_nvda/reddit_stocks_nvda_posts')"
   ]
  },
  {
   "cell_type": "markdown",
   "metadata": {},
   "source": [
    "### r/investing - last year - sorted by relevance"
   ]
  },
  {
   "cell_type": "code",
   "execution_count": 22,
   "metadata": {},
   "outputs": [
    {
     "name": "stdout",
     "output_type": "stream",
     "text": [
      "Data has been written to 'reddit_nvda/reddit_investing_nvda_posts.csv'\n"
     ]
    }
   ],
   "source": [
    "read_reddit_data(subreddit_name='investing', stock_name='Nvidia', file_name='reddit_nvda/reddit_investing_nvda_posts')"
   ]
  },
  {
   "cell_type": "markdown",
   "metadata": {},
   "source": [
    "### r/StockMarket - last year - sorted by relevance"
   ]
  },
  {
   "cell_type": "code",
   "execution_count": 23,
   "metadata": {},
   "outputs": [
    {
     "name": "stdout",
     "output_type": "stream",
     "text": [
      "Data has been written to 'reddit_nvda/reddit_StockMarket_nvda_posts.csv'\n"
     ]
    }
   ],
   "source": [
    "read_reddit_data(subreddit_name='StockMarket', stock_name='Nvidia', file_name='reddit_nvda/reddit_StockMarket_nvda_posts')"
   ]
  },
  {
   "cell_type": "markdown",
   "metadata": {},
   "source": [
    "### r/technology - last year - sorted by relevance"
   ]
  },
  {
   "cell_type": "code",
   "execution_count": 24,
   "metadata": {},
   "outputs": [
    {
     "name": "stdout",
     "output_type": "stream",
     "text": [
      "Data has been written to 'reddit_nvda/reddit_technology_nvda_posts.csv'\n"
     ]
    }
   ],
   "source": [
    "read_reddit_data(subreddit_name='technology', stock_name='Nvidia', file_name='reddit_nvda/reddit_technology_nvda_posts')"
   ]
  },
  {
   "cell_type": "markdown",
   "metadata": {},
   "source": [
    "## 12. Paypal"
   ]
  },
  {
   "cell_type": "markdown",
   "metadata": {},
   "source": [
    "### r/wallstreetbets - last year - sorted by relevance"
   ]
  },
  {
   "cell_type": "code",
   "execution_count": 25,
   "metadata": {},
   "outputs": [
    {
     "name": "stdout",
     "output_type": "stream",
     "text": [
      "Data has been written to 'reddit_pypl/reddit_wallstreetbets_pypl_posts.csv'\n"
     ]
    }
   ],
   "source": [
    "read_reddit_data(subreddit_name='wallstreetbets', stock_name='Paypal', file_name='reddit_pypl/reddit_wallstreetbets_pypl_posts')"
   ]
  },
  {
   "cell_type": "markdown",
   "metadata": {},
   "source": [
    "### r/stocks - last year - sorted by relevance"
   ]
  },
  {
   "cell_type": "code",
   "execution_count": 26,
   "metadata": {},
   "outputs": [
    {
     "name": "stdout",
     "output_type": "stream",
     "text": [
      "Data has been written to 'reddit_pypl/reddit_stocks_pypl_posts.csv'\n"
     ]
    }
   ],
   "source": [
    "read_reddit_data(subreddit_name='stocks', stock_name='Paypal', file_name='reddit_pypl/reddit_stocks_pypl_posts')"
   ]
  },
  {
   "cell_type": "markdown",
   "metadata": {},
   "source": [
    "### r/investing - last year - sorted by relevance"
   ]
  },
  {
   "cell_type": "code",
   "execution_count": 27,
   "metadata": {},
   "outputs": [
    {
     "name": "stdout",
     "output_type": "stream",
     "text": [
      "Data has been written to 'reddit_pypl/reddit_investing_pypl_posts.csv'\n"
     ]
    }
   ],
   "source": [
    "read_reddit_data(subreddit_name='investing', stock_name='Paypal', file_name='reddit_pypl/reddit_investing_pypl_posts')"
   ]
  },
  {
   "cell_type": "markdown",
   "metadata": {},
   "source": [
    "### r/StockMarket - last year - sorted by relevance"
   ]
  },
  {
   "cell_type": "code",
   "execution_count": 28,
   "metadata": {},
   "outputs": [
    {
     "name": "stdout",
     "output_type": "stream",
     "text": [
      "Data has been written to 'reddit_pypl/reddit_StockMarket_pypl_posts.csv'\n"
     ]
    }
   ],
   "source": [
    "read_reddit_data(subreddit_name='StockMarket', stock_name='Paypal', file_name='reddit_pypl/reddit_StockMarket_pypl_posts')"
   ]
  },
  {
   "cell_type": "markdown",
   "metadata": {},
   "source": [
    "### r/technology - last year - sorted by relevance"
   ]
  },
  {
   "cell_type": "code",
   "execution_count": 29,
   "metadata": {},
   "outputs": [
    {
     "name": "stdout",
     "output_type": "stream",
     "text": [
      "Data has been written to 'reddit_pypl/reddit_technology_pypl_posts.csv'\n"
     ]
    }
   ],
   "source": [
    "read_reddit_data(subreddit_name='technology', stock_name='Paypal', file_name='reddit_pypl/reddit_technology_pypl_posts')"
   ]
  },
  {
   "cell_type": "markdown",
   "metadata": {},
   "source": [
    "## 13. Cisco"
   ]
  },
  {
   "cell_type": "markdown",
   "metadata": {},
   "source": [
    "### r/wallstreetbets - last year - sorted by relevance"
   ]
  },
  {
   "cell_type": "code",
   "execution_count": 30,
   "metadata": {},
   "outputs": [
    {
     "name": "stdout",
     "output_type": "stream",
     "text": [
      "Data has been written to 'reddit_csco/reddit_wallstreetbets_csco_posts.csv'\n"
     ]
    }
   ],
   "source": [
    "read_reddit_data(subreddit_name='wallstreetbets', stock_name='Cisco', file_name='reddit_csco/reddit_wallstreetbets_csco_posts')"
   ]
  },
  {
   "cell_type": "markdown",
   "metadata": {},
   "source": [
    "### r/stocks - last year - sorted by relevance"
   ]
  },
  {
   "cell_type": "code",
   "execution_count": 31,
   "metadata": {},
   "outputs": [
    {
     "name": "stdout",
     "output_type": "stream",
     "text": [
      "Data has been written to 'reddit_csco/reddit_stocks_csco_posts.csv'\n"
     ]
    }
   ],
   "source": [
    "read_reddit_data(subreddit_name='stocks', stock_name='Cisco', file_name='reddit_csco/reddit_stocks_csco_posts')"
   ]
  },
  {
   "cell_type": "markdown",
   "metadata": {},
   "source": [
    "### r/investing - last year - sorted by relevance"
   ]
  },
  {
   "cell_type": "code",
   "execution_count": 32,
   "metadata": {},
   "outputs": [
    {
     "name": "stdout",
     "output_type": "stream",
     "text": [
      "Data has been written to 'reddit_csco/reddit_investing_csco_posts.csv'\n"
     ]
    }
   ],
   "source": [
    "read_reddit_data(subreddit_name='investing', stock_name='Cisco', file_name='reddit_csco/reddit_investing_csco_posts')"
   ]
  },
  {
   "cell_type": "markdown",
   "metadata": {},
   "source": [
    "### r/StockMarket - last year - sorted by relevance"
   ]
  },
  {
   "cell_type": "code",
   "execution_count": 33,
   "metadata": {},
   "outputs": [
    {
     "name": "stdout",
     "output_type": "stream",
     "text": [
      "Data has been written to 'reddit_csco/reddit_StockMarket_csco_posts.csv'\n"
     ]
    }
   ],
   "source": [
    "read_reddit_data(subreddit_name='StockMarket', stock_name='Cisco', file_name='reddit_csco/reddit_StockMarket_csco_posts')"
   ]
  },
  {
   "cell_type": "markdown",
   "metadata": {},
   "source": [
    "### r/technology - last year - sorted by relevance"
   ]
  },
  {
   "cell_type": "code",
   "execution_count": 34,
   "metadata": {},
   "outputs": [
    {
     "name": "stdout",
     "output_type": "stream",
     "text": [
      "Data has been written to 'reddit_csco/reddit_technology_csco_posts.csv'\n"
     ]
    }
   ],
   "source": [
    "read_reddit_data(subreddit_name='technology', stock_name='Cisco', file_name='reddit_csco/reddit_technology_csco_posts')"
   ]
  },
  {
   "cell_type": "markdown",
   "metadata": {},
   "source": [
    "## 14. Crowdstrike"
   ]
  },
  {
   "cell_type": "markdown",
   "metadata": {},
   "source": [
    "### r/wallstreetbets - last year - sorted by relevance"
   ]
  },
  {
   "cell_type": "code",
   "execution_count": 35,
   "metadata": {},
   "outputs": [
    {
     "name": "stdout",
     "output_type": "stream",
     "text": [
      "Data has been written to 'reddit_crwd/reddit_wallstreetbets_crwd_posts.csv'\n"
     ]
    }
   ],
   "source": [
    "read_reddit_data(subreddit_name='wallstreetbets', stock_name='Crowdstrike', file_name='reddit_crwd/reddit_wallstreetbets_crwd_posts')"
   ]
  },
  {
   "cell_type": "markdown",
   "metadata": {},
   "source": [
    "### r/stocks - last year - sorted by relevance"
   ]
  },
  {
   "cell_type": "code",
   "execution_count": 36,
   "metadata": {},
   "outputs": [
    {
     "name": "stdout",
     "output_type": "stream",
     "text": [
      "Data has been written to 'reddit_crwd/reddit_stocks_crwd_posts.csv'\n"
     ]
    }
   ],
   "source": [
    "read_reddit_data(subreddit_name='stocks', stock_name='Crowdstrike', file_name='reddit_crwd/reddit_stocks_crwd_posts')"
   ]
  },
  {
   "cell_type": "markdown",
   "metadata": {},
   "source": [
    "### r/investing - last year - sorted by relevance"
   ]
  },
  {
   "cell_type": "code",
   "execution_count": 37,
   "metadata": {},
   "outputs": [
    {
     "name": "stdout",
     "output_type": "stream",
     "text": [
      "Data has been written to 'reddit_crwd/reddit_investing_crwd_posts.csv'\n"
     ]
    }
   ],
   "source": [
    "read_reddit_data(subreddit_name='investing', stock_name='Crowdstrike', file_name='reddit_crwd/reddit_investing_crwd_posts')"
   ]
  },
  {
   "cell_type": "markdown",
   "metadata": {},
   "source": [
    "### r/StockMarket - last year - sorted by relevance"
   ]
  },
  {
   "cell_type": "code",
   "execution_count": 38,
   "metadata": {},
   "outputs": [
    {
     "name": "stdout",
     "output_type": "stream",
     "text": [
      "Data has been written to 'reddit_crwd/reddit_StockMarket_crwd_posts.csv'\n"
     ]
    }
   ],
   "source": [
    "read_reddit_data(subreddit_name='StockMarket', stock_name='Crowdstrike', file_name='reddit_crwd/reddit_StockMarket_crwd_posts')"
   ]
  },
  {
   "cell_type": "markdown",
   "metadata": {},
   "source": [
    "### r/technology - last year - sorted by relevance"
   ]
  },
  {
   "cell_type": "code",
   "execution_count": 39,
   "metadata": {},
   "outputs": [
    {
     "name": "stdout",
     "output_type": "stream",
     "text": [
      "Data has been written to 'reddit_crwd/reddit_technology_crwd_posts.csv'\n"
     ]
    }
   ],
   "source": [
    "read_reddit_data(subreddit_name='technology', stock_name='Crowdstrike', file_name='reddit_crwd/reddit_technology_crwd_posts')"
   ]
  },
  {
   "cell_type": "markdown",
   "metadata": {},
   "source": [
    "## 15. Uber"
   ]
  },
  {
   "cell_type": "markdown",
   "metadata": {},
   "source": [
    "### r/wallstreetbets - last year - sorted by relevance"
   ]
  },
  {
   "cell_type": "code",
   "execution_count": 40,
   "metadata": {},
   "outputs": [
    {
     "name": "stdout",
     "output_type": "stream",
     "text": [
      "Data has been written to 'reddit_uber/reddit_wallstreetbets_uber_posts.csv'\n"
     ]
    }
   ],
   "source": [
    "read_reddit_data(subreddit_name='wallstreetbets', stock_name='Uber', file_name='reddit_uber/reddit_wallstreetbets_uber_posts')"
   ]
  },
  {
   "cell_type": "markdown",
   "metadata": {},
   "source": [
    "### r/stocks - last year - sorted by relevance"
   ]
  },
  {
   "cell_type": "code",
   "execution_count": 41,
   "metadata": {},
   "outputs": [
    {
     "name": "stdout",
     "output_type": "stream",
     "text": [
      "Data has been written to 'reddit_uber/reddit_stocks_uber_posts.csv'\n"
     ]
    }
   ],
   "source": [
    "read_reddit_data(subreddit_name='stocks', stock_name='Uber', file_name='reddit_uber/reddit_stocks_uber_posts')"
   ]
  },
  {
   "cell_type": "markdown",
   "metadata": {},
   "source": [
    "### r/investing - last year - sorted by relevance"
   ]
  },
  {
   "cell_type": "code",
   "execution_count": 42,
   "metadata": {},
   "outputs": [
    {
     "name": "stdout",
     "output_type": "stream",
     "text": [
      "Data has been written to 'reddit_uber/reddit_investing_uber_posts.csv'\n"
     ]
    }
   ],
   "source": [
    "read_reddit_data(subreddit_name='investing', stock_name='Uber', file_name='reddit_uber/reddit_investing_uber_posts')"
   ]
  },
  {
   "cell_type": "markdown",
   "metadata": {},
   "source": [
    "### r/StockMarket - last year - sorted by relevance"
   ]
  },
  {
   "cell_type": "code",
   "execution_count": 43,
   "metadata": {},
   "outputs": [
    {
     "name": "stdout",
     "output_type": "stream",
     "text": [
      "Data has been written to 'reddit_uber/reddit_StockMarket_uber_posts.csv'\n"
     ]
    }
   ],
   "source": [
    "read_reddit_data(subreddit_name='StockMarket', stock_name='Uber', file_name='reddit_uber/reddit_StockMarket_uber_posts')"
   ]
  },
  {
   "cell_type": "markdown",
   "metadata": {},
   "source": [
    "### r/technology - last year - sorted by relevance"
   ]
  },
  {
   "cell_type": "code",
   "execution_count": 44,
   "metadata": {},
   "outputs": [
    {
     "name": "stdout",
     "output_type": "stream",
     "text": [
      "Data has been written to 'reddit_uber/reddit_technology_uber_posts.csv'\n"
     ]
    }
   ],
   "source": [
    "read_reddit_data(subreddit_name='technology', stock_name='Uber', file_name='reddit_uber/reddit_technology_uber_posts')"
   ]
  },
  {
   "cell_type": "markdown",
   "metadata": {},
   "source": [
    "## 16. IBM"
   ]
  },
  {
   "cell_type": "markdown",
   "metadata": {},
   "source": [
    "### r/wallstreetbets - last year - sorted by relevance"
   ]
  },
  {
   "cell_type": "code",
   "execution_count": 45,
   "metadata": {},
   "outputs": [
    {
     "name": "stdout",
     "output_type": "stream",
     "text": [
      "Data has been written to 'reddit_ibm/reddit_wallstreetbets_ibm_posts.csv'\n"
     ]
    }
   ],
   "source": [
    "read_reddit_data(subreddit_name='wallstreetbets', stock_name='IBM', file_name='reddit_ibm/reddit_wallstreetbets_ibm_posts')"
   ]
  },
  {
   "cell_type": "markdown",
   "metadata": {},
   "source": [
    "### r/stocks - last year - sorted by relevance"
   ]
  },
  {
   "cell_type": "code",
   "execution_count": 46,
   "metadata": {},
   "outputs": [
    {
     "name": "stdout",
     "output_type": "stream",
     "text": [
      "Data has been written to 'reddit_ibm/reddit_stocks_ibm_posts.csv'\n"
     ]
    }
   ],
   "source": [
    "read_reddit_data(subreddit_name='stocks', stock_name='IBM', file_name='reddit_ibm/reddit_stocks_ibm_posts')"
   ]
  },
  {
   "cell_type": "markdown",
   "metadata": {},
   "source": [
    "### r/investing - last year - sorted by relevance"
   ]
  },
  {
   "cell_type": "code",
   "execution_count": 47,
   "metadata": {},
   "outputs": [
    {
     "name": "stdout",
     "output_type": "stream",
     "text": [
      "Data has been written to 'reddit_ibm/reddit_investing_ibm_posts.csv'\n"
     ]
    }
   ],
   "source": [
    "read_reddit_data(subreddit_name='investing', stock_name='IBM', file_name='reddit_ibm/reddit_investing_ibm_posts')"
   ]
  },
  {
   "cell_type": "markdown",
   "metadata": {},
   "source": [
    "### r/StockMarket - last year - sorted by relevance"
   ]
  },
  {
   "cell_type": "code",
   "execution_count": 48,
   "metadata": {},
   "outputs": [
    {
     "name": "stdout",
     "output_type": "stream",
     "text": [
      "Data has been written to 'reddit_ibm/reddit_StockMarket_ibm_posts.csv'\n"
     ]
    }
   ],
   "source": [
    "read_reddit_data(subreddit_name='StockMarket', stock_name='IBM', file_name='reddit_ibm/reddit_StockMarket_ibm_posts')"
   ]
  },
  {
   "cell_type": "markdown",
   "metadata": {},
   "source": [
    "### r/technology - last year - sorted by relevance"
   ]
  },
  {
   "cell_type": "code",
   "execution_count": 49,
   "metadata": {},
   "outputs": [
    {
     "name": "stdout",
     "output_type": "stream",
     "text": [
      "Data has been written to 'reddit_ibm/reddit_technology_ibm_posts.csv'\n"
     ]
    }
   ],
   "source": [
    "read_reddit_data(subreddit_name='technology', stock_name='IBM', file_name='reddit_ibm/reddit_technology_ibm_posts')"
   ]
  },
  {
   "cell_type": "markdown",
   "metadata": {},
   "source": [
    "## 17. Oracle"
   ]
  },
  {
   "cell_type": "markdown",
   "metadata": {},
   "source": [
    "### r/wallstreetbets - last year - sorted by relevance"
   ]
  },
  {
   "cell_type": "code",
   "execution_count": 4,
   "metadata": {},
   "outputs": [
    {
     "name": "stdout",
     "output_type": "stream",
     "text": [
      "Data has been written to 'reddit_orcl/reddit_wallstreetbets_orcl_posts.csv'\n"
     ]
    }
   ],
   "source": [
    "read_reddit_data(subreddit_name='wallstreetbets', stock_name='Oracle', file_name='reddit_orcl/reddit_wallstreetbets_orcl_posts')"
   ]
  },
  {
   "cell_type": "markdown",
   "metadata": {},
   "source": [
    "### r/stocks - last year - sorted by relevance"
   ]
  },
  {
   "cell_type": "code",
   "execution_count": 51,
   "metadata": {},
   "outputs": [
    {
     "name": "stdout",
     "output_type": "stream",
     "text": [
      "Data has been written to 'reddit_orcl/reddit_stocks_orcl_posts.csv'\n"
     ]
    }
   ],
   "source": [
    "read_reddit_data(subreddit_name='stocks', stock_name='Oracle', file_name='reddit_orcl/reddit_stocks_orcl_posts')"
   ]
  },
  {
   "cell_type": "markdown",
   "metadata": {},
   "source": [
    "### r/investing - last year - sorted by relevance"
   ]
  },
  {
   "cell_type": "code",
   "execution_count": 52,
   "metadata": {},
   "outputs": [
    {
     "name": "stdout",
     "output_type": "stream",
     "text": [
      "Data has been written to 'reddit_orcl/reddit_investing_orcl_posts.csv'\n"
     ]
    }
   ],
   "source": [
    "read_reddit_data(subreddit_name='investing', stock_name='Oracle', file_name='reddit_orcl/reddit_investing_orcl_posts')"
   ]
  },
  {
   "cell_type": "markdown",
   "metadata": {},
   "source": [
    "### r/StockMarket - last year - sorted by relevance"
   ]
  },
  {
   "cell_type": "code",
   "execution_count": 53,
   "metadata": {},
   "outputs": [
    {
     "name": "stdout",
     "output_type": "stream",
     "text": [
      "Data has been written to 'reddit_orcl/reddit_StockMarket_orcl_posts.csv'\n"
     ]
    }
   ],
   "source": [
    "read_reddit_data(subreddit_name='StockMarket', stock_name='Oracle', file_name='reddit_orcl/reddit_StockMarket_orcl_posts')"
   ]
  },
  {
   "cell_type": "markdown",
   "metadata": {},
   "source": [
    "### r/technology - last year - sorted by relevance"
   ]
  },
  {
   "cell_type": "code",
   "execution_count": 54,
   "metadata": {},
   "outputs": [
    {
     "name": "stdout",
     "output_type": "stream",
     "text": [
      "Data has been written to 'reddit_orcl/reddit_technology_orcl_posts.csv'\n"
     ]
    }
   ],
   "source": [
    "read_reddit_data(subreddit_name='technology', stock_name='Oracle', file_name='reddit_orcl/reddit_technology_orcl_posts')"
   ]
  },
  {
   "cell_type": "markdown",
   "metadata": {},
   "source": [
    "## 18. Qualcomm"
   ]
  },
  {
   "cell_type": "markdown",
   "metadata": {},
   "source": [
    "### r/wallstreetbets - last year - sorted by relevance"
   ]
  },
  {
   "cell_type": "code",
   "execution_count": 3,
   "metadata": {},
   "outputs": [
    {
     "name": "stdout",
     "output_type": "stream",
     "text": [
      "Data has been written to 'reddit_qcom/reddit_wallstreetbets_qcom_posts.csv'\n"
     ]
    }
   ],
   "source": [
    "read_reddit_data(subreddit_name='wallstreetbets', stock_name='Qualcomm', file_name='reddit_qcom/reddit_wallstreetbets_qcom_posts')"
   ]
  },
  {
   "cell_type": "markdown",
   "metadata": {},
   "source": [
    "### r/stocks - last year - sorted by relevance"
   ]
  },
  {
   "cell_type": "code",
   "execution_count": 5,
   "metadata": {},
   "outputs": [
    {
     "name": "stdout",
     "output_type": "stream",
     "text": [
      "Data has been written to 'reddit_qcom/reddit_stocks_qcom_posts.csv'\n"
     ]
    }
   ],
   "source": [
    "read_reddit_data(subreddit_name='stocks', stock_name='Qualcomm', file_name='reddit_qcom/reddit_stocks_qcom_posts')"
   ]
  },
  {
   "cell_type": "markdown",
   "metadata": {},
   "source": [
    "### r/investing - last year - sorted by relevance"
   ]
  },
  {
   "cell_type": "code",
   "execution_count": 6,
   "metadata": {},
   "outputs": [
    {
     "name": "stdout",
     "output_type": "stream",
     "text": [
      "Data has been written to 'reddit_qcom/reddit_investing_qcom_posts.csv'\n"
     ]
    }
   ],
   "source": [
    "read_reddit_data(subreddit_name='investing', stock_name='Qualcomm', file_name='reddit_qcom/reddit_investing_qcom_posts')"
   ]
  },
  {
   "cell_type": "markdown",
   "metadata": {},
   "source": [
    "### r/StockMarket - last year - sorted by relevance"
   ]
  },
  {
   "cell_type": "code",
   "execution_count": 7,
   "metadata": {},
   "outputs": [
    {
     "name": "stdout",
     "output_type": "stream",
     "text": [
      "Data has been written to 'reddit_qcom/reddit_StockMarket_qcom_posts.csv'\n"
     ]
    }
   ],
   "source": [
    "read_reddit_data(subreddit_name='StockMarket', stock_name='Qualcomm', file_name='reddit_qcom/reddit_StockMarket_qcom_posts')"
   ]
  },
  {
   "cell_type": "markdown",
   "metadata": {},
   "source": [
    "### r/technology - last year - sorted by relevance"
   ]
  },
  {
   "cell_type": "code",
   "execution_count": 8,
   "metadata": {},
   "outputs": [
    {
     "name": "stdout",
     "output_type": "stream",
     "text": [
      "Data has been written to 'reddit_qcom/reddit_technology_qcom_posts.csv'\n"
     ]
    }
   ],
   "source": [
    "read_reddit_data(subreddit_name='technology', stock_name='Qualcomm', file_name='reddit_qcom/reddit_technology_qcom_posts')"
   ]
  },
  {
   "cell_type": "markdown",
   "metadata": {},
   "source": [
    "## 19. Intel"
   ]
  },
  {
   "cell_type": "markdown",
   "metadata": {},
   "source": [
    "### r/wallstreetbets - last year - sorted by relevance"
   ]
  },
  {
   "cell_type": "code",
   "execution_count": 10,
   "metadata": {},
   "outputs": [
    {
     "name": "stdout",
     "output_type": "stream",
     "text": [
      "Data has been written to 'reddit_intc/reddit_wallstreetbets_intc_posts.csv'\n"
     ]
    }
   ],
   "source": [
    "read_reddit_data(subreddit_name='wallstreetbets', stock_name='Intel', file_name='reddit_intc/reddit_wallstreetbets_intc_posts')"
   ]
  },
  {
   "cell_type": "markdown",
   "metadata": {},
   "source": [
    "### r/stocks - last year - sorted by relevance"
   ]
  },
  {
   "cell_type": "code",
   "execution_count": 11,
   "metadata": {},
   "outputs": [
    {
     "name": "stdout",
     "output_type": "stream",
     "text": [
      "Data has been written to 'reddit_intc/reddit_stocks_intc_posts.csv'\n"
     ]
    }
   ],
   "source": [
    "read_reddit_data(subreddit_name='stocks', stock_name='Intel', file_name='reddit_intc/reddit_stocks_intc_posts')"
   ]
  },
  {
   "cell_type": "markdown",
   "metadata": {},
   "source": [
    "### r/investing - last year - sorted by relevance"
   ]
  },
  {
   "cell_type": "code",
   "execution_count": 12,
   "metadata": {},
   "outputs": [
    {
     "name": "stdout",
     "output_type": "stream",
     "text": [
      "Data has been written to 'reddit_intc/reddit_investing_intc_posts.csv'\n"
     ]
    }
   ],
   "source": [
    "read_reddit_data(subreddit_name='investing', stock_name='Intel', file_name='reddit_intc/reddit_investing_intc_posts')"
   ]
  },
  {
   "cell_type": "markdown",
   "metadata": {},
   "source": [
    "### r/StockMarket - last year - sorted by relevance"
   ]
  },
  {
   "cell_type": "code",
   "execution_count": 13,
   "metadata": {},
   "outputs": [
    {
     "name": "stdout",
     "output_type": "stream",
     "text": [
      "Data has been written to 'reddit_intc/reddit_StockMarket_intc_posts.csv'\n"
     ]
    }
   ],
   "source": [
    "read_reddit_data(subreddit_name='StockMarket', stock_name='Intel', file_name='reddit_intc/reddit_StockMarket_intc_posts')"
   ]
  },
  {
   "cell_type": "markdown",
   "metadata": {},
   "source": [
    "### r/technology - last year - sorted by relevance"
   ]
  },
  {
   "cell_type": "code",
   "execution_count": 14,
   "metadata": {},
   "outputs": [
    {
     "name": "stdout",
     "output_type": "stream",
     "text": [
      "Data has been written to 'reddit_intc/reddit_technology_intc_posts.csv'\n"
     ]
    }
   ],
   "source": [
    "read_reddit_data(subreddit_name='technology', stock_name='Intel', file_name='reddit_intc/reddit_technology_intc_posts')"
   ]
  },
  {
   "cell_type": "markdown",
   "metadata": {},
   "source": [
    "## 20. Salesforce"
   ]
  },
  {
   "cell_type": "markdown",
   "metadata": {},
   "source": [
    "### r/wallstreetbets - last year - sorted by relevance"
   ]
  },
  {
   "cell_type": "code",
   "execution_count": 16,
   "metadata": {},
   "outputs": [
    {
     "name": "stdout",
     "output_type": "stream",
     "text": [
      "Data has been written to 'reddit_crm/reddit_wallstreetbets_crm_posts.csv'\n"
     ]
    }
   ],
   "source": [
    "read_reddit_data(subreddit_name='wallstreetbets', stock_name='Salesforce', file_name='reddit_crm/reddit_wallstreetbets_crm_posts')"
   ]
  },
  {
   "cell_type": "markdown",
   "metadata": {},
   "source": [
    "### r/stocks - last year - sorted by relevance"
   ]
  },
  {
   "cell_type": "code",
   "execution_count": 17,
   "metadata": {},
   "outputs": [
    {
     "name": "stdout",
     "output_type": "stream",
     "text": [
      "Data has been written to 'reddit_crm/reddit_stocks_crm_posts.csv'\n"
     ]
    }
   ],
   "source": [
    "read_reddit_data(subreddit_name='stocks', stock_name='Salesforce', file_name='reddit_crm/reddit_stocks_crm_posts')"
   ]
  },
  {
   "cell_type": "markdown",
   "metadata": {},
   "source": [
    "### r/investing - last year - sorted by relevance"
   ]
  },
  {
   "cell_type": "code",
   "execution_count": 18,
   "metadata": {},
   "outputs": [
    {
     "name": "stdout",
     "output_type": "stream",
     "text": [
      "Data has been written to 'reddit_crm/reddit_investing_crm_posts.csv'\n"
     ]
    }
   ],
   "source": [
    "read_reddit_data(subreddit_name='investing', stock_name='Salesforce', file_name='reddit_crm/reddit_investing_crm_posts')"
   ]
  },
  {
   "cell_type": "markdown",
   "metadata": {},
   "source": [
    "### r/StockMarket - last year - sorted by relevance"
   ]
  },
  {
   "cell_type": "code",
   "execution_count": 19,
   "metadata": {},
   "outputs": [
    {
     "name": "stdout",
     "output_type": "stream",
     "text": [
      "Data has been written to 'reddit_crm/reddit_StockMarket_crm_posts.csv'\n"
     ]
    }
   ],
   "source": [
    "read_reddit_data(subreddit_name='StockMarket', stock_name='Salesforce', file_name='reddit_crm/reddit_StockMarket_crm_posts')"
   ]
  },
  {
   "cell_type": "markdown",
   "metadata": {},
   "source": [
    "### r/technology - last year - sorted by relevance"
   ]
  },
  {
   "cell_type": "code",
   "execution_count": 20,
   "metadata": {},
   "outputs": [
    {
     "name": "stdout",
     "output_type": "stream",
     "text": [
      "Data has been written to 'reddit_crm/reddit_technology_crm_posts.csv'\n"
     ]
    }
   ],
   "source": [
    "read_reddit_data(subreddit_name='technology', stock_name='Salesforce', file_name='reddit_crm/reddit_technology_crm_posts')"
   ]
  },
  {
   "cell_type": "markdown",
   "metadata": {},
   "source": [
    "## 21. The Trade Desk"
   ]
  },
  {
   "cell_type": "markdown",
   "metadata": {},
   "source": [
    "### r/wallstreetbets - last year - sorted by relevance"
   ]
  },
  {
   "cell_type": "code",
   "execution_count": 21,
   "metadata": {},
   "outputs": [
    {
     "name": "stdout",
     "output_type": "stream",
     "text": [
      "Data has been written to 'reddit_ttd/reddit_wallstreetbets_ttd_posts.csv'\n"
     ]
    }
   ],
   "source": [
    "read_reddit_data(subreddit_name='wallstreetbets', stock_name='Trade Desk', file_name='reddit_ttd/reddit_wallstreetbets_ttd_posts')"
   ]
  },
  {
   "cell_type": "markdown",
   "metadata": {},
   "source": [
    "### r/stocks - last year - sorted by relevance"
   ]
  },
  {
   "cell_type": "code",
   "execution_count": 22,
   "metadata": {},
   "outputs": [
    {
     "name": "stdout",
     "output_type": "stream",
     "text": [
      "Data has been written to 'reddit_ttd/reddit_stocks_ttd_posts.csv'\n"
     ]
    }
   ],
   "source": [
    "read_reddit_data(subreddit_name='stocks', stock_name='Trade Desk', file_name='reddit_ttd/reddit_stocks_ttd_posts')"
   ]
  },
  {
   "cell_type": "markdown",
   "metadata": {},
   "source": [
    "### r/investing - last year - sorted by relevance"
   ]
  },
  {
   "cell_type": "code",
   "execution_count": 23,
   "metadata": {},
   "outputs": [
    {
     "name": "stdout",
     "output_type": "stream",
     "text": [
      "Data has been written to 'reddit_ttd/reddit_investing_ttd_posts.csv'\n"
     ]
    }
   ],
   "source": [
    "read_reddit_data(subreddit_name='investing', stock_name='Trade Desk', file_name='reddit_ttd/reddit_investing_ttd_posts')"
   ]
  },
  {
   "cell_type": "markdown",
   "metadata": {},
   "source": [
    "### r/StockMarket - last year - sorted by relevance"
   ]
  },
  {
   "cell_type": "code",
   "execution_count": 24,
   "metadata": {},
   "outputs": [
    {
     "name": "stdout",
     "output_type": "stream",
     "text": [
      "Data has been written to 'reddit_ttd/reddit_StockMarket_ttd_posts.csv'\n"
     ]
    }
   ],
   "source": [
    "read_reddit_data(subreddit_name='StockMarket', stock_name='Trade Desk', file_name='reddit_ttd/reddit_StockMarket_ttd_posts')"
   ]
  },
  {
   "cell_type": "markdown",
   "metadata": {},
   "source": [
    "### r/technology - last year - sorted by relevance"
   ]
  },
  {
   "cell_type": "code",
   "execution_count": 25,
   "metadata": {},
   "outputs": [
    {
     "name": "stdout",
     "output_type": "stream",
     "text": [
      "Data has been written to 'reddit_ttd/reddit_technology_ttd_posts.csv'\n"
     ]
    }
   ],
   "source": [
    "read_reddit_data(subreddit_name='technology', stock_name='Trade Desk', file_name='reddit_ttd/reddit_technology_ttd_posts')"
   ]
  },
  {
   "cell_type": "markdown",
   "metadata": {},
   "source": [
    "## 22. Electronic Arts"
   ]
  },
  {
   "cell_type": "markdown",
   "metadata": {},
   "source": [
    "### r/wallstreetbets - last year - sorted by relevance"
   ]
  },
  {
   "cell_type": "code",
   "execution_count": null,
   "metadata": {},
   "outputs": [
    {
     "name": "stdout",
     "output_type": "stream",
     "text": [
      "Data has been written to 'reddit_orcl/reddit_wallstreetbets_orcl_posts.csv'\n"
     ]
    }
   ],
   "source": [
    "read_reddit_data(subreddit_name='wallstreetbets', stock_name='Electronic Arts', file_name='reddit_ea/reddit_wallstreetbets_ea_posts')"
   ]
  },
  {
   "cell_type": "markdown",
   "metadata": {},
   "source": [
    "### r/stocks - last year - sorted by relevance"
   ]
  },
  {
   "cell_type": "code",
   "execution_count": null,
   "metadata": {},
   "outputs": [
    {
     "name": "stdout",
     "output_type": "stream",
     "text": [
      "Data has been written to 'reddit_orcl/reddit_stocks_orcl_posts.csv'\n"
     ]
    }
   ],
   "source": [
    "read_reddit_data(subreddit_name='stocks', stock_name='Electronic Arts', file_name='reddit_ea/reddit_stocks_ea_posts')"
   ]
  },
  {
   "cell_type": "markdown",
   "metadata": {},
   "source": [
    "### r/investing - last year - sorted by relevance"
   ]
  },
  {
   "cell_type": "code",
   "execution_count": null,
   "metadata": {},
   "outputs": [
    {
     "name": "stdout",
     "output_type": "stream",
     "text": [
      "Data has been written to 'reddit_orcl/reddit_investing_orcl_posts.csv'\n"
     ]
    }
   ],
   "source": [
    "read_reddit_data(subreddit_name='investing', stock_name='Electronic Arts', file_name='reddit_ea/reddit_investing_ea_posts')"
   ]
  },
  {
   "cell_type": "markdown",
   "metadata": {},
   "source": [
    "### r/StockMarket - last year - sorted by relevance"
   ]
  },
  {
   "cell_type": "code",
   "execution_count": null,
   "metadata": {},
   "outputs": [
    {
     "name": "stdout",
     "output_type": "stream",
     "text": [
      "Data has been written to 'reddit_orcl/reddit_StockMarket_orcl_posts.csv'\n"
     ]
    }
   ],
   "source": [
    "read_reddit_data(subreddit_name='StockMarket', stock_name='Electronic Arts', file_name='reddit_ea/reddit_StockMarket_ea_posts')"
   ]
  },
  {
   "cell_type": "markdown",
   "metadata": {},
   "source": [
    "### r/technology - last year - sorted by relevance"
   ]
  },
  {
   "cell_type": "code",
   "execution_count": null,
   "metadata": {},
   "outputs": [
    {
     "name": "stdout",
     "output_type": "stream",
     "text": [
      "Data has been written to 'reddit_orcl/reddit_technology_orcl_posts.csv'\n"
     ]
    }
   ],
   "source": [
    "read_reddit_data(subreddit_name='technology', stock_name='Electronic Arts', file_name='reddit_ea/reddit_technology_ea_posts')"
   ]
  }
 ],
 "metadata": {
  "kernelspec": {
   "display_name": "Python 3",
   "language": "python",
   "name": "python3"
  },
  "language_info": {
   "codemirror_mode": {
    "name": "ipython",
    "version": 3
   },
   "file_extension": ".py",
   "mimetype": "text/x-python",
   "name": "python",
   "nbconvert_exporter": "python",
   "pygments_lexer": "ipython3",
   "version": "3.9.6"
  }
 },
 "nbformat": 4,
 "nbformat_minor": 2
}
